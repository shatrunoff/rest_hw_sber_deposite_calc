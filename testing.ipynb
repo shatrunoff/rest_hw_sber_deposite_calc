{
 "cells": [
  {
   "cell_type": "code",
   "execution_count": 33,
   "metadata": {},
   "outputs": [],
   "source": [
    "# from datetime import datetime\n",
    "# import json\n",
    "\n",
    "\n",
    "# def data_validation(data: dict) -> tuple:\n",
    "    \n",
    "#     '''\n",
    "#     Функция валидации входных данных.\n",
    "#     Поиск несоответсвий требованиям.\n",
    "#     На выходе:\n",
    "#     * флаг: True/False -- data_validation(data)[0]\n",
    "#     * error_dict: описание ошибки  -- data_validation(data)[1]\n",
    "#     '''\n",
    "\n",
    "#     flag = False\n",
    "#     error_dict = {}\n",
    "    \n",
    "#     # загружаем json валидационных тестов\n",
    "#     with open('C:\\\\Users\\\\shatr\\\\Desctop\\\\test_task_sber\\\\validation\\\\validation.json', 'r') as f:\n",
    "#         validation_dict = json.load(f)\n",
    "\n",
    "#     # поэтапно сравниваем:\n",
    "#     # - количество входных данных и в валидационной проверке\n",
    "#     # - наличие полей в валидационном json\n",
    "#     # - соответствие типов данных\n",
    "#     # - корректность формата даты\n",
    "#     # - допустимые границы данных\n",
    "#     if len(data.keys()) != len(validation_dict.keys()):\n",
    "#         error_dict['error'] = f'different amount of input({len(data.keys())}) and validation data({len(validation_dict.keys())})'\n",
    "#         return flag, error_dict\n",
    "\n",
    "#     for data_name, data_value in data.items():\n",
    "#         if data_name not in validation_dict.keys():\n",
    "#             error_dict['error'] = f'{data_name} not in validation.json'\n",
    "#             return flag, error_dict\n",
    "        \n",
    "#         elif str(type(data_value)) != validation_dict[data_name]['type']:\n",
    "#                 error_dict['error'] = f\"mismatch of field '{data_name}' data types, '{validation_dict[data_name]['type']}' is correct\"\n",
    "#                 return flag, error_dict\n",
    "        \n",
    "#         else:\n",
    "#             if data_name == \"date\":\n",
    "#                 try:\n",
    "#                     datetime.strptime(data_value, validation_dict[data_name]['validation'])\n",
    "#                 except:\n",
    "#                     error_dict['error'] = f\"incorrect data format {data_value}, correct type is '{validation_dict[data_name]['validation']}'\"\n",
    "#                     return flag, error_dict\n",
    "#             else:\n",
    "#                 if not(validation_dict[data_name]['validation'][0] <= data_value <= validation_dict[data_name]['validation'][1]):\n",
    "#                     error_dict['error'] = f\"the value of the field '{data_name}' is out of the allowed range - {validation_dict[data_name]['validation']}\"\n",
    "#                     return flag, error_dict\n",
    "    \n",
    "#     flag = True\n",
    "#     return flag, error_dict"
   ]
  },
  {
   "cell_type": "code",
   "execution_count": 1,
   "metadata": {},
   "outputs": [],
   "source": [
    "from deposite.validation_and_calculation import *"
   ]
  },
  {
   "cell_type": "code",
   "execution_count": 2,
   "metadata": {},
   "outputs": [],
   "source": [
    "import requests\n",
    "import time"
   ]
  },
  {
   "cell_type": "code",
   "execution_count": 8,
   "metadata": {},
   "outputs": [
    {
     "data": {
      "text/plain": [
       "46.39736008644104"
      ]
     },
     "execution_count": 8,
     "metadata": {},
     "output_type": "execute_result"
    }
   ],
   "source": [
    "stark_time = time.time()\n",
    "\n",
    "for i in range(10000):    \n",
    "    link = 'http://127.0.0.1:5000/deposite'\n",
    "    headers = {'Content-Type': 'application/json'}\n",
    "\n",
    "    input_data = {\n",
    "        \"date\": \"31.01.2021\",\n",
    "        \"periods\": 30,\n",
    "        \"amount\": 1500000,\n",
    "        \"rate\": 6\n",
    "    }\n",
    "\n",
    "    response = requests.post(link, json=input_data, headers=headers).json()\n",
    "    \n",
    "\n",
    "end_time = time.time()\n",
    "diff = end_time - stark_time\n",
    "diff"
   ]
  },
  {
   "attachments": {},
   "cell_type": "markdown",
   "metadata": {},
   "source": [
    "* 10_000 - макс параметры - 57.48 сек\n",
    "* 10_000 - мин параметры - 35.86 сек \n",
    "* 10_000 - среднее параметров - 46.39 сек"
   ]
  },
  {
   "cell_type": "code",
   "execution_count": null,
   "metadata": {},
   "outputs": [],
   "source": []
  }
 ],
 "metadata": {
  "kernelspec": {
   "display_name": "Python 3 (ipykernel)",
   "language": "python",
   "name": "python3"
  },
  "language_info": {
   "codemirror_mode": {
    "name": "ipython",
    "version": 3
   },
   "file_extension": ".py",
   "mimetype": "text/x-python",
   "name": "python",
   "nbconvert_exporter": "python",
   "pygments_lexer": "ipython3",
   "version": "3.11.2"
  }
 },
 "nbformat": 4,
 "nbformat_minor": 2
}
