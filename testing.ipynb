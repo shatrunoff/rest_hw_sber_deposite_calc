{
 "cells": [
  {
   "cell_type": "code",
   "execution_count": 32,
   "metadata": {},
   "outputs": [],
   "source": [
    "# from validation.validation import data_validation\n",
    "import flask\n",
    "import json\n",
    "from datetime import date, datetime, timedelta\n",
    "import calendar"
   ]
  },
  {
   "cell_type": "code",
   "execution_count": 33,
   "metadata": {},
   "outputs": [],
   "source": [
    "from datetime import datetime\n",
    "import json\n",
    "\n",
    "\n",
    "def data_validation(data: dict) -> tuple:\n",
    "    \n",
    "    '''\n",
    "    Функция валидации входных данных.\n",
    "    Поиск несоответсвий требованиям.\n",
    "    На выходе:\n",
    "    * флаг: True/False -- data_validation(data)[0]\n",
    "    * error_dict: описание ошибки  -- data_validation(data)[1]\n",
    "    '''\n",
    "\n",
    "    flag = False\n",
    "    error_dict = {}\n",
    "    \n",
    "    # загружаем json валидационных тестов\n",
    "    with open('C:\\\\Users\\\\shatr\\\\Desctop\\\\test_task_sber\\\\validation\\\\validation.json', 'r') as f:\n",
    "        validation_dict = json.load(f)\n",
    "\n",
    "    # поэтапно сравниваем:\n",
    "    # - количество входных данных и в валидационной проверке\n",
    "    # - наличие полей в валидационном json\n",
    "    # - соответствие типов данных\n",
    "    # - корректность формата даты\n",
    "    # - допустимые границы данных\n",
    "    if len(data.keys()) != len(validation_dict.keys()):\n",
    "        error_dict['error'] = f'different amount of input({len(data.keys())}) and validation data({len(validation_dict.keys())})'\n",
    "        return flag, error_dict\n",
    "\n",
    "    for data_name, data_value in data.items():\n",
    "        if data_name not in validation_dict.keys():\n",
    "            error_dict['error'] = f'{data_name} not in validation.json'\n",
    "            return flag, error_dict\n",
    "        \n",
    "        elif str(type(data_value)) != validation_dict[data_name]['type']:\n",
    "                error_dict['error'] = f\"mismatch of field '{data_name}' data types, '{validation_dict[data_name]['type']}' is correct\"\n",
    "                return flag, error_dict\n",
    "        \n",
    "        else:\n",
    "            if data_name == \"date\":\n",
    "                try:\n",
    "                    datetime.strptime(data_value, validation_dict[data_name]['validation'])\n",
    "                except:\n",
    "                    error_dict['error'] = f\"incorrect data format {data_value}, correct type is '{validation_dict[data_name]['validation']}'\"\n",
    "                    return flag, error_dict\n",
    "            else:\n",
    "                if not(validation_dict[data_name]['validation'][0] <= data_value <= validation_dict[data_name]['validation'][1]):\n",
    "                    error_dict['error'] = f\"the value of the field '{data_name}' is out of the allowed range - {validation_dict[data_name]['validation']}\"\n",
    "                    return flag, error_dict\n",
    "    \n",
    "    flag = True\n",
    "    return flag, error_dict"
   ]
  },
  {
   "cell_type": "code",
   "execution_count": null,
   "metadata": {},
   "outputs": [],
   "source": []
  },
  {
   "cell_type": "code",
   "execution_count": null,
   "metadata": {},
   "outputs": [],
   "source": []
  },
  {
   "cell_type": "code",
   "execution_count": 24,
   "metadata": {},
   "outputs": [],
   "source": [
    "# проверка строки и преобразования \n",
    "# валидация + конвертация + обработка\n",
    "\n",
    "def get_last_day_of_current_month(date_: datetime) -> str:\n",
    "    \n",
    "    date_ = datetime.strptime(date_, '%d.%m.%Y')\n",
    "    \n",
    "    last_day = calendar.monthrange(date_.year, date_.month)[1]\n",
    "    last_day_of_the_month = date(date_.year, date_.month, last_day)\n",
    "    first_day_of_next_month = last_day_of_the_month\n",
    "    \n",
    "    return last_day_of_the_month"
   ]
  },
  {
   "cell_type": "code",
   "execution_count": 26,
   "metadata": {},
   "outputs": [
    {
     "data": {
      "text/plain": [
       "datetime.date(2011, 2, 1)"
      ]
     },
     "execution_count": 26,
     "metadata": {},
     "output_type": "execute_result"
    },
    {
     "ename": "",
     "evalue": "",
     "output_type": "error",
     "traceback": [
      "\u001b[1;31mThe Kernel crashed while executing code in the the current cell or a previous cell. Please review the code in the cell(s) to identify a possible cause of the failure. Click <a href='https://aka.ms/vscodeJupyterKernelCrash'>here</a> for more info. View Jupyter <a href='command:jupyter.viewOutput'>log</a> for further details."
     ]
    }
   ],
   "source": [
    "get_last_day_of_current_month('01.01.2011') + timedelta(days=1)"
   ]
  },
  {
   "cell_type": "code",
   "execution_count": 9,
   "metadata": {},
   "outputs": [],
   "source": [
    "def calculate_deposite(input_json: dict) -> dict:\n",
    "    \n",
    "    if data_validation(input_json)[0]:\n",
    "        return input_json['amount']\n",
    "    \n",
    "    return data_validation(input_json)[1]"
   ]
  },
  {
   "cell_type": "code",
   "execution_count": 17,
   "metadata": {},
   "outputs": [
    {
     "data": {
      "text/plain": [
       "True"
      ]
     },
     "execution_count": 17,
     "metadata": {},
     "output_type": "execute_result"
    }
   ],
   "source": [
    "isinstance(x, (int, float))"
   ]
  },
  {
   "cell_type": "code",
   "execution_count": 20,
   "metadata": {},
   "outputs": [
    {
     "ename": "ValueError",
     "evalue": "time data '01.01.201' does not match format '%d.%m.%Y'",
     "output_type": "error",
     "traceback": [
      "\u001b[1;31m---------------------------------------------------------------------------\u001b[0m",
      "\u001b[1;31mValueError\u001b[0m                                Traceback (most recent call last)",
      "Cell \u001b[1;32mIn[20], line 1\u001b[0m\n\u001b[1;32m----> 1\u001b[0m datetime\u001b[39m.\u001b[39;49mstrptime(\u001b[39m'\u001b[39;49m\u001b[39m01.01.201\u001b[39;49m\u001b[39m'\u001b[39;49m, \u001b[39m'\u001b[39;49m\u001b[39m%d\u001b[39;49;00m\u001b[39m.\u001b[39;49m\u001b[39m%\u001b[39;49m\u001b[39mm.\u001b[39;49m\u001b[39m%\u001b[39;49m\u001b[39mY\u001b[39;49m\u001b[39m'\u001b[39;49m)\n",
      "File \u001b[1;32m~\\AppData\\Local\\Programs\\Python\\Python311\\Lib\\_strptime.py:568\u001b[0m, in \u001b[0;36m_strptime_datetime\u001b[1;34m(cls, data_string, format)\u001b[0m\n\u001b[0;32m    565\u001b[0m \u001b[39mdef\u001b[39;00m \u001b[39m_strptime_datetime\u001b[39m(\u001b[39mcls\u001b[39m, data_string, \u001b[39mformat\u001b[39m\u001b[39m=\u001b[39m\u001b[39m\"\u001b[39m\u001b[39m%a\u001b[39;00m\u001b[39m \u001b[39m\u001b[39m%\u001b[39m\u001b[39mb \u001b[39m\u001b[39m%d\u001b[39;00m\u001b[39m \u001b[39m\u001b[39m%\u001b[39m\u001b[39mH:\u001b[39m\u001b[39m%\u001b[39m\u001b[39mM:\u001b[39m\u001b[39m%\u001b[39m\u001b[39mS \u001b[39m\u001b[39m%\u001b[39m\u001b[39mY\u001b[39m\u001b[39m\"\u001b[39m):\n\u001b[0;32m    566\u001b[0m \u001b[39m    \u001b[39m\u001b[39m\"\"\"Return a class cls instance based on the input string and the\u001b[39;00m\n\u001b[0;32m    567\u001b[0m \u001b[39m    format string.\"\"\"\u001b[39;00m\n\u001b[1;32m--> 568\u001b[0m     tt, fraction, gmtoff_fraction \u001b[39m=\u001b[39m _strptime(data_string, \u001b[39mformat\u001b[39;49m)\n\u001b[0;32m    569\u001b[0m     tzname, gmtoff \u001b[39m=\u001b[39m tt[\u001b[39m-\u001b[39m\u001b[39m2\u001b[39m:]\n\u001b[0;32m    570\u001b[0m     args \u001b[39m=\u001b[39m tt[:\u001b[39m6\u001b[39m] \u001b[39m+\u001b[39m (fraction,)\n",
      "File \u001b[1;32m~\\AppData\\Local\\Programs\\Python\\Python311\\Lib\\_strptime.py:349\u001b[0m, in \u001b[0;36m_strptime\u001b[1;34m(data_string, format)\u001b[0m\n\u001b[0;32m    347\u001b[0m found \u001b[39m=\u001b[39m format_regex\u001b[39m.\u001b[39mmatch(data_string)\n\u001b[0;32m    348\u001b[0m \u001b[39mif\u001b[39;00m \u001b[39mnot\u001b[39;00m found:\n\u001b[1;32m--> 349\u001b[0m     \u001b[39mraise\u001b[39;00m \u001b[39mValueError\u001b[39;00m(\u001b[39m\"\u001b[39m\u001b[39mtime data \u001b[39m\u001b[39m%r\u001b[39;00m\u001b[39m does not match format \u001b[39m\u001b[39m%r\u001b[39;00m\u001b[39m\"\u001b[39m \u001b[39m%\u001b[39m\n\u001b[0;32m    350\u001b[0m                      (data_string, \u001b[39mformat\u001b[39m))\n\u001b[0;32m    351\u001b[0m \u001b[39mif\u001b[39;00m \u001b[39mlen\u001b[39m(data_string) \u001b[39m!=\u001b[39m found\u001b[39m.\u001b[39mend():\n\u001b[0;32m    352\u001b[0m     \u001b[39mraise\u001b[39;00m \u001b[39mValueError\u001b[39;00m(\u001b[39m\"\u001b[39m\u001b[39munconverted data remains: \u001b[39m\u001b[39m%s\u001b[39;00m\u001b[39m\"\u001b[39m \u001b[39m%\u001b[39m\n\u001b[0;32m    353\u001b[0m                       data_string[found\u001b[39m.\u001b[39mend():])\n",
      "\u001b[1;31mValueError\u001b[0m: time data '01.01.201' does not match format '%d.%m.%Y'"
     ]
    }
   ],
   "source": [
    "\n",
    "datetime.strptime('', '%d.%m.%Y')"
   ]
  },
  {
   "cell_type": "code",
   "execution_count": null,
   "metadata": {},
   "outputs": [],
   "source": []
  },
  {
   "cell_type": "code",
   "execution_count": null,
   "metadata": {},
   "outputs": [],
   "source": []
  },
  {
   "cell_type": "code",
   "execution_count": null,
   "metadata": {},
   "outputs": [],
   "source": []
  },
  {
   "cell_type": "code",
   "execution_count": 8,
   "metadata": {},
   "outputs": [
    {
     "data": {
      "text/plain": [
       "(True, {})"
      ]
     },
     "execution_count": 8,
     "metadata": {},
     "output_type": "execute_result"
    }
   ],
   "source": [
    "\n",
    "data_validation(input_data)"
   ]
  },
  {
   "cell_type": "code",
   "execution_count": 9,
   "metadata": {},
   "outputs": [
    {
     "name": "stdout",
     "output_type": "stream",
     "text": [
      "31.01.2021\n",
      "28.02.2021\n",
      "28.02.2021\n"
     ]
    }
   ],
   "source": [
    "n_d = get_last_day_of_current_month_and_next_month(input_data['date'])[0]\n",
    "for i in range(input_data['periods']):\n",
    "    print(get_last_day_of_current_month_and_next_month(n_d)[0])\n",
    "    n_d = get_last_day_of_current_month_and_next_month(input_data['date'])[1]"
   ]
  },
  {
   "cell_type": "code",
   "execution_count": 1,
   "metadata": {},
   "outputs": [
    {
     "data": {
      "text/plain": [
       "{'date': {'type': \"<class 'str'>\", 'validation': '%d.%m.%Y'},\n",
       " 'periods': {'type': \"<class 'int'>\", 'validation': [1, 60]},\n",
       " 'amount': {'type': \"<class 'int'>\", 'validation': [10000, 3000000]},\n",
       " 'rate': {'type': \"<class 'float'>\", 'validation': [1, 8]}}"
      ]
     },
     "execution_count": 1,
     "metadata": {},
     "output_type": "execute_result"
    }
   ],
   "source": [
    "{\n",
    "    \"date\": {\n",
    "        \"type\": \"<class 'str'>\",\n",
    "        \"validation\": \"%d.%m.%Y\"\n",
    "    },\n",
    "    \"periods\": {\n",
    "        \"type\": \"<class 'int'>\",\n",
    "        \"validation\": [1, 60]    \n",
    "    },\n",
    "    \"amount\": {\n",
    "        \"type\": \"<class 'int'>\",\n",
    "        \"validation\": [10000, 3000000] \n",
    "    },\n",
    "    \"rate\": {\n",
    "        \"type\": \"<class 'float'>\",\n",
    "        \"validation\": [1, 8] \n",
    "    }\n",
    "}"
   ]
  },
  {
   "cell_type": "code",
   "execution_count": 2,
   "metadata": {},
   "outputs": [
    {
     "data": {
      "text/plain": [
       "False"
      ]
     },
     "execution_count": 2,
     "metadata": {},
     "output_type": "execute_result"
    }
   ],
   "source": [
    "{} is True"
   ]
  },
  {
   "cell_type": "code",
   "execution_count": 1,
   "metadata": {},
   "outputs": [],
   "source": [
    "from deposite.validation import date_validate, periods_validate, amount_validation, rate_validation"
   ]
  },
  {
   "cell_type": "code",
   "execution_count": 21,
   "metadata": {},
   "outputs": [],
   "source": [
    "\n"
   ]
  },
  {
   "cell_type": "code",
   "execution_count": 28,
   "metadata": {},
   "outputs": [
    {
     "data": {
      "text/plain": [
       "(True, 200, {'result_json'})"
      ]
     },
     "execution_count": 28,
     "metadata": {},
     "output_type": "execute_result"
    }
   ],
   "source": [
    "\n",
    "\n",
    "aggregate_validation(input_data)"
   ]
  },
  {
   "cell_type": "code",
   "execution_count": 51,
   "metadata": {},
   "outputs": [],
   "source": [
    "def get_last_day_of_current_month(date_: datetime) -> str:\n",
    "\n",
    "    if isinstance(date_, str):\n",
    "        date_ = datetime.strptime(date_, '%d.%m.%Y')\n",
    "    \n",
    "    last_day = calendar.monthrange(date_.year, date_.month)[1]\n",
    "    last_day_of_the_month = date(date_.year, date_.month, last_day)\n",
    "    \n",
    "    return last_day_of_the_month"
   ]
  },
  {
   "cell_type": "code",
   "execution_count": 52,
   "metadata": {},
   "outputs": [
    {
     "data": {
      "text/plain": [
       "datetime.date(2023, 1, 1)"
      ]
     },
     "execution_count": 52,
     "metadata": {},
     "output_type": "execute_result"
    }
   ],
   "source": [
    "get_last_day_of_current_month('31.12.2022') + timedelta(days=1)"
   ]
  },
  {
   "cell_type": "code",
   "execution_count": 53,
   "metadata": {},
   "outputs": [],
   "source": [
    "def calculation_of_the_deposit(deposit, rate) -> float:\n",
    "    \n",
    "    return deposit * (1 + rate / 1200)\n"
   ]
  },
  {
   "cell_type": "code",
   "execution_count": 62,
   "metadata": {},
   "outputs": [],
   "source": [
    "def get_deposite_result(json_data: dict) -> dict:\n",
    "\n",
    "    deposite_result = {}\n",
    "\n",
    "    periods, deposite_date = json_data['periods'], json_data['date']\n",
    "    amount, rate = json_data['amount'], json_data['rate']\n",
    "\n",
    "\n",
    "    for period in range(periods):\n",
    "        deposite_result[get_last_day_of_current_month(deposite_date).strftime('%d.%m.%Y')] = round(calculation_of_the_deposit(amount, rate), 2)\n",
    "        amount = calculation_of_the_deposit(amount, rate)\n",
    "        deposite_date = get_last_day_of_current_month(deposite_date) + timedelta(days=1)\n",
    "\n",
    "    return deposite_result\n"
   ]
  },
  {
   "cell_type": "code",
   "execution_count": 20,
   "metadata": {},
   "outputs": [],
   "source": [
    "input_data = {\n",
    "    \"date\": \"31.01.2021\",\n",
    "    \"periods\": 6,\n",
    "    \"amount\": 10000,\n",
    "    \"rate\": 6\n",
    "}"
   ]
  },
  {
   "cell_type": "code",
   "execution_count": 24,
   "metadata": {},
   "outputs": [],
   "source": []
  },
  {
   "cell_type": "code",
   "execution_count": 25,
   "metadata": {},
   "outputs": [
    {
     "data": {
      "text/plain": [
       "(True,\n",
       " 200,\n",
       " {'31.01.2021': 10050.0,\n",
       "  '28.02.2021': 10100.25,\n",
       "  '31.03.2021': 10150.75,\n",
       "  '30.04.2021': 10201.51,\n",
       "  '31.05.2021': 10252.51,\n",
       "  '30.06.2021': 10303.78})"
      ]
     },
     "execution_count": 25,
     "metadata": {},
     "output_type": "execute_result"
    }
   ],
   "source": [
    "aggregate_validation_and_calculating(input_data)"
   ]
  },
  {
   "cell_type": "code",
   "execution_count": 26,
   "metadata": {},
   "outputs": [],
   "source": [
    "from flask import Flask, request, jsonify"
   ]
  },
  {
   "cell_type": "code",
   "execution_count": 13,
   "metadata": {},
   "outputs": [
    {
     "name": "stderr",
     "output_type": "stream",
     "text": [
      "curl: (3) URL using bad/illegal format or missing URL\n",
      "curl: (3) URL using bad/illegal format or missing URL\n",
      "curl: (3) URL using bad/illegal format or missing URL\n",
      "curl: (3) URL using bad/illegal format or missing URL\n",
      "curl: (3) URL using bad/illegal format or missing URL\n",
      "curl: (3) URL using bad/illegal format or missing URL\n",
      "curl: (3) unmatched close brace/bracket in URL position 2:\n",
      "6}'\n",
      " ^\n"
     ]
    }
   ],
   "source": [
    "!curl -X POST -H \"Content-Type: application/json\" -d '{\"date\": \"31.01.2021\", \"periods\": 6, \"amount\": 10000, \"rate\": 6}' http://localhost:5000/deposite"
   ]
  },
  {
   "cell_type": "code",
   "execution_count": 14,
   "metadata": {},
   "outputs": [
    {
     "name": "stdout",
     "output_type": "stream",
     "text": [
      "<!doctype html>\n",
      "<html lang=en>\n",
      "<title>400 Bad Request</title>\n",
      "<h1>Bad Request</h1>\n",
      "<p>Failed to decode JSON object: Expecting value: line 1 column 1 (char 0)</p>\n"
     ]
    },
    {
     "name": "stderr",
     "output_type": "stream",
     "text": [
      "  % Total    % Received % Xferd  Average Speed   Time    Time     Time  Current\n",
      "                                 Dload  Upload   Total   Spent    Left  Speed\n",
      "\n",
      "  0     0    0     0    0     0      0      0 --:--:-- --:--:-- --:--:--     0\n",
      "100   169  100   162  100     7   126k   5591 --:--:-- --:--:-- --:--:--  165k\n",
      "curl: (3) URL using bad/illegal format or missing URL\n",
      "curl: (3) URL using bad/illegal format or missing URL\n",
      "curl: (3) URL using bad/illegal format or missing URL\n",
      "curl: (3) URL using bad/illegal format or missing URL\n",
      "curl: (3) URL using bad/illegal format or missing URL\n",
      "curl: (3) URL using bad/illegal format or missing URL\n",
      "curl: (3) unmatched close brace/bracket in URL position 2:\n",
      "6}'\n",
      " ^\n"
     ]
    },
    {
     "ename": "",
     "evalue": "",
     "output_type": "error",
     "traceback": [
      "\u001b[1;31mThe Kernel crashed while executing code in the the current cell or a previous cell. Please review the code in the cell(s) to identify a possible cause of the failure. Click <a href='https://aka.ms/vscodeJupyterKernelCrash'>here</a> for more info. View Jupyter <a href='command:jupyter.viewOutput'>log</a> for further details."
     ]
    }
   ],
   "source": [
    "!curl -X POST http://localhost:5000/deposite -H \"Content-Type: application/json\" -d '{\"date\": \"31.01.2021\", \"periods\": 6, \"amount\": 10000, \"rate\": 6}'"
   ]
  },
  {
   "cell_type": "code",
   "execution_count": 6,
   "metadata": {},
   "outputs": [
    {
     "data": {
      "text/plain": [
       "(False,\n",
       " {'error': \"incorrect data format 14.0.2019, correct type is '%d.%m.%Y'\"})"
      ]
     },
     "execution_count": 6,
     "metadata": {},
     "output_type": "execute_result"
    }
   ],
   "source": [
    "from deposite.validation_and_calculation import *\n",
    "\n",
    "date_validate('14.0.2019')"
   ]
  },
  {
   "cell_type": "code",
   "execution_count": null,
   "metadata": {},
   "outputs": [],
   "source": []
  }
 ],
 "metadata": {
  "kernelspec": {
   "display_name": "Python 3 (ipykernel)",
   "language": "python",
   "name": "python3"
  },
  "language_info": {
   "codemirror_mode": {
    "name": "ipython",
    "version": 3
   },
   "file_extension": ".py",
   "mimetype": "text/x-python",
   "name": "python",
   "nbconvert_exporter": "python",
   "pygments_lexer": "ipython3",
   "version": "3.11.1"
  }
 },
 "nbformat": 4,
 "nbformat_minor": 2
}
