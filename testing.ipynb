{
 "cells": [
  {
   "cell_type": "code",
   "execution_count": 33,
   "metadata": {},
   "outputs": [],
   "source": [
    "# from datetime import datetime\n",
    "# import json\n",
    "\n",
    "\n",
    "# def data_validation(data: dict) -> tuple:\n",
    "    \n",
    "#     '''\n",
    "#     Функция валидации входных данных.\n",
    "#     Поиск несоответсвий требованиям.\n",
    "#     На выходе:\n",
    "#     * флаг: True/False -- data_validation(data)[0]\n",
    "#     * error_dict: описание ошибки  -- data_validation(data)[1]\n",
    "#     '''\n",
    "\n",
    "#     flag = False\n",
    "#     error_dict = {}\n",
    "    \n",
    "#     # загружаем json валидационных тестов\n",
    "#     with open('C:\\\\Users\\\\shatr\\\\Desctop\\\\test_task_sber\\\\validation\\\\validation.json', 'r') as f:\n",
    "#         validation_dict = json.load(f)\n",
    "\n",
    "#     # поэтапно сравниваем:\n",
    "#     # - количество входных данных и в валидационной проверке\n",
    "#     # - наличие полей в валидационном json\n",
    "#     # - соответствие типов данных\n",
    "#     # - корректность формата даты\n",
    "#     # - допустимые границы данных\n",
    "#     if len(data.keys()) != len(validation_dict.keys()):\n",
    "#         error_dict['error'] = f'different amount of input({len(data.keys())}) and validation data({len(validation_dict.keys())})'\n",
    "#         return flag, error_dict\n",
    "\n",
    "#     for data_name, data_value in data.items():\n",
    "#         if data_name not in validation_dict.keys():\n",
    "#             error_dict['error'] = f'{data_name} not in validation.json'\n",
    "#             return flag, error_dict\n",
    "        \n",
    "#         elif str(type(data_value)) != validation_dict[data_name]['type']:\n",
    "#                 error_dict['error'] = f\"mismatch of field '{data_name}' data types, '{validation_dict[data_name]['type']}' is correct\"\n",
    "#                 return flag, error_dict\n",
    "        \n",
    "#         else:\n",
    "#             if data_name == \"date\":\n",
    "#                 try:\n",
    "#                     datetime.strptime(data_value, validation_dict[data_name]['validation'])\n",
    "#                 except:\n",
    "#                     error_dict['error'] = f\"incorrect data format {data_value}, correct type is '{validation_dict[data_name]['validation']}'\"\n",
    "#                     return flag, error_dict\n",
    "#             else:\n",
    "#                 if not(validation_dict[data_name]['validation'][0] <= data_value <= validation_dict[data_name]['validation'][1]):\n",
    "#                     error_dict['error'] = f\"the value of the field '{data_name}' is out of the allowed range - {validation_dict[data_name]['validation']}\"\n",
    "#                     return flag, error_dict\n",
    "    \n",
    "#     flag = True\n",
    "#     return flag, error_dict"
   ]
  },
  {
   "cell_type": "code",
   "execution_count": 2,
   "metadata": {},
   "outputs": [],
   "source": [
    "from deposite.validation_and_calculation import *"
   ]
  },
  {
   "cell_type": "code",
   "execution_count": 3,
   "metadata": {},
   "outputs": [],
   "source": [
    "import requests"
   ]
  },
  {
   "cell_type": "code",
   "execution_count": 8,
   "metadata": {},
   "outputs": [
    {
     "data": {
      "text/plain": [
       "{'31.01.2021': 10050,\n",
       " '28.02.2021': 10100.25,\n",
       " '31.03.2021': 10150.75,\n",
       " '30.04.2021': 10201.51,\n",
       " '31.05.2021': 10252.51,\n",
       " '30.06.2021': 10303.78}"
      ]
     },
     "execution_count": 8,
     "metadata": {},
     "output_type": "execute_result"
    }
   ],
   "source": [
    "link = 'http://192.168.1.7:5000/deposite'\n",
    "headers = {'Content-Type': 'application/json'}\n",
    "\n",
    "input_data = {\n",
    "    \"date\": \"31.01.2021\",\n",
    "    \"periods\": 6,\n",
    "    \"amount\": 10000,\n",
    "    \"rate\": 6\n",
    "}\n",
    "\n",
    "response = requests.post(link, json=input_data, headers=headers).json()\n",
    "response\n"
   ]
  }
 ],
 "metadata": {
  "kernelspec": {
   "display_name": "Python 3 (ipykernel)",
   "language": "python",
   "name": "python3"
  },
  "language_info": {
   "codemirror_mode": {
    "name": "ipython",
    "version": 3
   },
   "file_extension": ".py",
   "mimetype": "text/x-python",
   "name": "python",
   "nbconvert_exporter": "python",
   "pygments_lexer": "ipython3",
   "version": "3.11.1"
  }
 },
 "nbformat": 4,
 "nbformat_minor": 2
}
