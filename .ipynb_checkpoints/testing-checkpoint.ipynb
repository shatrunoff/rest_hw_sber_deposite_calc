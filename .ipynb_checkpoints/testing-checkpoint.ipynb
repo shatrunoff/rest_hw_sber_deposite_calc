{
 "cells": [
  {
   "cell_type": "code",
   "execution_count": 7,
   "metadata": {},
   "outputs": [],
   "source": [
    "from validation.validation_func import data_validation\n",
    "import flask\n",
    "import json\n",
    "from datetime import date, datetime, timedelta\n",
    "import calendar"
   ]
  },
  {
   "cell_type": "code",
   "execution_count": 8,
   "metadata": {},
   "outputs": [],
   "source": [
    "def get_last_day_of_current_month_and_next_month(date_: str) -> tuple:\n",
    "    \n",
    "    date_ = datetime.strptime(date_, '%d.%m.%Y')\n",
    "    \n",
    "    last_day = calendar.monthrange(date_.year, date_.month)[1]\n",
    "    last_day_of_the_month = date(date_.year, date_.month, last_day)\n",
    "    \n",
    "    first_day_of_next_month = last_day_of_the_month + timedelta(days=4)\n",
    "    \n",
    "    return last_day_of_the_month.strftime('%d.%m.%Y'), first_day_of_next_month.strftime('%d.%m.%Y')"
   ]
  },
  {
   "cell_type": "code",
   "execution_count": null,
   "metadata": {},
   "outputs": [],
   "source": []
  },
  {
   "cell_type": "code",
   "execution_count": 9,
   "metadata": {},
   "outputs": [],
   "source": [
    "def calculate_deposite(input_json: dict) -> dict:\n",
    "    \n",
    "    if data_validation(input_json)[0]:\n",
    "        return\n",
    "    \n",
    "    return data_validation(input_json)[1]"
   ]
  },
  {
   "cell_type": "code",
   "execution_count": 10,
   "metadata": {},
   "outputs": [
    {
     "data": {
      "text/plain": [
       "('31.01.2021', '04.02.2021')"
      ]
     },
     "execution_count": 10,
     "metadata": {},
     "output_type": "execute_result"
    }
   ],
   "source": [
    "get_last_day_of_current_month_and_next_month('31.01.2021')"
   ]
  },
  {
   "cell_type": "code",
   "execution_count": null,
   "metadata": {},
   "outputs": [],
   "source": []
  },
  {
   "cell_type": "code",
   "execution_count": 11,
   "metadata": {},
   "outputs": [],
   "source": [
    "input_data = {\n",
    "    \"date\": \"31.01.2021\",\n",
    "    \"periods\": 3,\n",
    "    \"amount\": 10000,\n",
    "    \"rate\": 6.\n",
    "}"
   ]
  },
  {
   "cell_type": "code",
   "execution_count": 12,
   "metadata": {},
   "outputs": [
    {
     "name": "stdout",
     "output_type": "stream",
     "text": [
      "31.01.2021\n",
      "28.02.2021\n",
      "28.02.2021\n"
     ]
    }
   ],
   "source": [
    "n_d = get_last_day_of_current_month_and_next_month(input_data['date'])[0]\n",
    "for i in range(input_data['periods']):\n",
    "    print(get_last_day_of_current_month_and_next_month(n_d)[0])\n",
    "    n_d = get_last_day_of_current_month_and_next_month(input_data['date'])[1]"
   ]
  },
  {
   "cell_type": "code",
   "execution_count": null,
   "metadata": {},
   "outputs": [],
   "source": []
  },
  {
   "cell_type": "code",
   "execution_count": null,
   "metadata": {},
   "outputs": [],
   "source": []
  },
  {
   "cell_type": "code",
   "execution_count": null,
   "metadata": {},
   "outputs": [],
   "source": []
  },
  {
   "cell_type": "code",
   "execution_count": null,
   "metadata": {},
   "outputs": [],
   "source": []
  },
  {
   "cell_type": "code",
   "execution_count": null,
   "metadata": {},
   "outputs": [],
   "source": []
  },
  {
   "cell_type": "code",
   "execution_count": null,
   "metadata": {},
   "outputs": [],
   "source": []
  },
  {
   "cell_type": "code",
   "execution_count": null,
   "metadata": {},
   "outputs": [],
   "source": []
  },
  {
   "cell_type": "code",
   "execution_count": null,
   "metadata": {},
   "outputs": [],
   "source": []
  },
  {
   "cell_type": "code",
   "execution_count": null,
   "metadata": {},
   "outputs": [],
   "source": []
  },
  {
   "cell_type": "code",
   "execution_count": null,
   "metadata": {},
   "outputs": [],
   "source": []
  },
  {
   "cell_type": "code",
   "execution_count": null,
   "metadata": {},
   "outputs": [],
   "source": []
  },
  {
   "cell_type": "code",
   "execution_count": null,
   "metadata": {},
   "outputs": [],
   "source": []
  },
  {
   "cell_type": "code",
   "execution_count": null,
   "metadata": {},
   "outputs": [],
   "source": []
  }
 ],
 "metadata": {
  "kernelspec": {
   "display_name": "Python 3 (ipykernel)",
   "language": "python",
   "name": "python3"
  },
  "language_info": {
   "codemirror_mode": {
    "name": "ipython",
    "version": 3
   },
   "file_extension": ".py",
   "mimetype": "text/x-python",
   "name": "python",
   "nbconvert_exporter": "python",
   "pygments_lexer": "ipython3",
   "version": "3.11.1"
  }
 },
 "nbformat": 4,
 "nbformat_minor": 2
}
